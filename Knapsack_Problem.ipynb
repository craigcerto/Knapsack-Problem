{
 "cells": [
  {
   "cell_type": "markdown",
   "metadata": {},
   "source": [
    "# Knapsack Problem\n",
    "\n",
    "Given n items with positive integer weights w<sub>1</sub>, ..., w<sub>n</sub> and a positive integer bound W\n",
    "#### Goal: Find S that maximizes the sum of weights subject to the constraint that the sum is <= W\n"
   ]
  },
  {
   "cell_type": "code",
   "execution_count": 2,
   "metadata": {},
   "outputs": [
    {
     "data": {
      "text/plain": [
       "30"
      ]
     },
     "execution_count": 2,
     "metadata": {},
     "output_type": "execute_result"
    }
   ],
   "source": [
    "# Sample weights\n",
    "w = [None, 10, 3, 5, 9, 12, 15, 8, 2, 6]\n",
    "W = 30\n",
    "\n",
    "# Optimal solution using first j items with bound w\n",
    "def Opt(j, weight):\n",
    "    if j == 0:\n",
    "        return 0\n",
    "    elif w[j] > weight:\n",
    "        return Opt(j-1, weight)\n",
    "    else:\n",
    "        return max(Opt(j-1, weight), w[j] + Opt(j-1, weight - w[j]))\n",
    "\n",
    "# Optimal solution for full list with constraint W\n",
    "Opt(len(w) - 1, W)"
   ]
  }
 ],
 "metadata": {
  "kernelspec": {
   "display_name": "Python 3",
   "language": "python",
   "name": "python3"
  },
  "language_info": {
   "codemirror_mode": {
    "name": "ipython",
    "version": 3
   },
   "file_extension": ".py",
   "mimetype": "text/x-python",
   "name": "python",
   "nbconvert_exporter": "python",
   "pygments_lexer": "ipython3",
   "version": "3.8.5"
  }
 },
 "nbformat": 4,
 "nbformat_minor": 4
}
